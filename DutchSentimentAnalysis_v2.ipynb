{
  "cells": [
    {
      "cell_type": "code",
      "execution_count": null,
      "id": "7adab238-7652-4a5e-9d73-8ec1300fc85e",
      "metadata": {
        "id": "7adab238-7652-4a5e-9d73-8ec1300fc85e"
      },
      "outputs": [],
      "source": [
        "#**** Sentiment Analysis using Dutch Tweets****\n",
        "# by SELIM SAMETOGLU\n",
        "# This is a secondary version where I try to implement pipelines from scikitlearn\n"
      ]
    },
    {
      "cell_type": "markdown",
      "source": [
        "## Load dependencies"
      ],
      "metadata": {
        "id": "MCWHmkIoX3z-"
      },
      "id": "MCWHmkIoX3z-"
    },
    {
      "cell_type": "code",
      "source": [
        "##### Has to be installed/checked at each runtime\n",
        "# !python -m spacy download nl_core_news_sm\n",
        "# !pip install langdetect\n",
        "# nltk.download('stopwords')\n",
        "\n",
        "##### to connect to drive\n",
        "# from google.colab import drive\n",
        "# drive.mount('/content/drive')"
      ],
      "metadata": {
        "id": "cEAc7vL-AawZ"
      },
      "id": "cEAc7vL-AawZ",
      "execution_count": null,
      "outputs": []
    },
    {
      "cell_type": "code",
      "execution_count": null,
      "id": "1fe20592-9190-43b5-a90e-a9a26d4c8449",
      "metadata": {
        "id": "1fe20592-9190-43b5-a90e-a9a26d4c8449"
      },
      "outputs": [],
      "source": [
        "# load the dependencies\n",
        "# Utility\n",
        "import pandas as pd\n",
        "import numpy as np\n",
        "import re\n",
        "# Prepro\n",
        "from nltk.stem import WordNetLemmatizer\n",
        "import nltk\n",
        "from sklearn.model_selection import train_test_split\n",
        "from sklearn.feature_extraction.text import TfidfVectorizer\n",
        "import spacy\n",
        "# Plotting\n",
        "from matplotlib import pyplot as plt\n",
        "import seaborn as sns\n",
        "from wordcloud import WordCloud\n",
        "# sklearn\n",
        "from sklearn.svm import LinearSVC\n",
        "from sklearn.naive_bayes import BernoulliNB\n",
        "from sklearn.linear_model import LogisticRegression\n",
        "from sklearn.model_selection import train_test_split\n",
        "from sklearn.feature_extraction.text import TfidfVectorizer\n",
        "from sklearn.metrics import confusion_matrix, classification_report\n"
      ]
    },
    {
      "cell_type": "markdown",
      "source": [],
      "metadata": {
        "id": "XCii0WoiV5LY"
      },
      "id": "XCii0WoiV5LY"
    },
    {
      "cell_type": "code",
      "execution_count": null,
      "id": "d2e94b06-5d6b-4a93-a87d-942076b9b798",
      "metadata": {
        "id": "d2e94b06-5d6b-4a93-a87d-942076b9b798"
      },
      "outputs": [],
      "source": [
        "# Load the dataset\n",
        "data = pd.read_json(\"/content/drive/MyDrive/Collab_data/dutch_tweets_chunk0.json\")\n",
        "# Check the lenght of the data\n",
        "# print('number of messages:', len(data))\n",
        "# data[[\"sentiment_pattern\"]].hist()\n",
        "# data[[\"sentiment_pattern\"]]\n",
        "# dichotimize the sentiment categories\n",
        "data.loc[data[\"sentiment_pattern\"] <0, \"sentiment_pattern\"] = 0\n",
        "data.loc[data[\"sentiment_pattern\"] >0, \"sentiment_pattern\"] = 1\n",
        "# check with a histogram whether it worked\n",
        "# data[[\"sentiment_pattern\"]].hist()\n",
        "# take only a small portion of the data for better speed\n",
        "data = data[:5000]\n"
      ]
    },
    {
      "cell_type": "markdown",
      "source": [
        "# Using Custom Transformers and Scikit pipelines for preprocessing"
      ],
      "metadata": {
        "id": "xXDUYvtV5c9l"
      },
      "id": "xXDUYvtV5c9l"
    },
    {
      "cell_type": "markdown",
      "source": [
        "### step 1: Create a custom transformer for filtering out 'Non-Dutch' sentences"
      ],
      "metadata": {
        "id": "r3t2yGmiIone"
      },
      "id": "r3t2yGmiIone"
    },
    {
      "cell_type": "code",
      "source": [
        "#  Creating a preprocessing step with\n",
        "from sklearn.base import BaseEstimator, TransformerMixin\n",
        "from langdetect import detect\n",
        "\n",
        "class LanguageFilter(BaseEstimator, TransformerMixin):\n",
        "  def __init__(self):\n",
        "    pass\n",
        "\n",
        "# filter out non-Dutch sentences\n",
        "  def detect_language(self, X, y=None):\n",
        "    try:\n",
        "        return detect(X)\n",
        "    except:\n",
        "        return 'unknown'\n",
        "\n",
        "  def fit(self, X, y = None):\n",
        "    return self\n",
        "\n",
        "  def transform(self, X, y= None):\n",
        "    X['language'] = X['full_text'].apply(self.detect_language)\n",
        "    X = X[X['language'] == 'nl']\n",
        "    X.drop('language', axis = 1, inplace = True)\n",
        "    return X"
      ],
      "metadata": {
        "id": "OfVdBoew-yfQ"
      },
      "execution_count": null,
      "outputs": [],
      "id": "OfVdBoew-yfQ"
    },
    {
      "cell_type": "markdown",
      "source": [
        "### step 2: column manipulations and turning 'statements into lower case'"
      ],
      "metadata": {
        "id": "wBPwJlr7ZYzt"
      },
      "id": "wBPwJlr7ZYzt"
    },
    {
      "cell_type": "code",
      "source": [
        "from sklearn.base import BaseEstimator, TransformerMixin\n",
        "\n",
        "class CoLo(BaseEstimator, TransformerMixin):\n",
        "  def __init__(self):\n",
        "    pass\n",
        "  def fit(self, X, y= None):\n",
        "    return self\n",
        "  def transform(self, X, y=None):\n",
        "    X = X[[\"full_text\", \"sentiment_pattern\"]]\n",
        "    X.columns = [\"text\", \"label\"]\n",
        "    X['text'] = X['text'].str.lower()\n",
        "    return X\n"
      ],
      "metadata": {
        "id": "E25BfE_-UJKD"
      },
      "id": "E25BfE_-UJKD",
      "execution_count": null,
      "outputs": []
    },
    {
      "cell_type": "markdown",
      "source": [],
      "metadata": {
        "id": "8-yvIvSpYZSL"
      },
      "id": "8-yvIvSpYZSL"
    },
    {
      "cell_type": "markdown",
      "source": [
        "### step 3: clean and remove the stopwords from the text"
      ],
      "metadata": {
        "id": "0Rot69UYYasF"
      },
      "id": "0Rot69UYYasF"
    },
    {
      "cell_type": "code",
      "source": [
        "from sklearn.base import BaseEstimator, TransformerMixin\n",
        "class Cleaner(BaseEstimator, TransformerMixin):\n",
        "  def __init__(self):\n",
        "    pass\n",
        "\n",
        "  def fit(self, X, y =None):\n",
        "    return self\n",
        "\n",
        "  def transform(self, X, y=None):\n",
        "    stopwordlist = ['aan','al','alles','als', 'altijd','andere', 'ben','bij',\n",
        "    'daar','dan','dat','de','der','deze','die','dit','doch','doen','door','dus',\n",
        "    'een','eens','en','er','ge','geen','geweest','haar','had','heb','hebben','heeft',\n",
        "    'hem','het','hier','hij','hoe','hun','iemand','iets','ik','in','is','ja',\n",
        "    'je','kan','kon','kunnen','maar','me','meer','men','met','mij','mijn','moet',\n",
        "    'na','naar','niet','niets','nog','nu','of','om','omdat','onder','ons','ook',\n",
        "    'op','reeds','te','tegen','toch','toen','tot','u','uit','uw','van','veel','voor',\n",
        "    'want','waren','was','wat','werd','wezen','wie','wil','worden','wordt','zal',\n",
        "    'ze','zelf','zich','zij','zijn','zo','zonder','zou']\n",
        "    STOPWORDS = set(stopwordlist)\n",
        "    X['text'] = X['text'].apply(lambda a: \" \".join([word for word in a.split() if word not in STOPWORDS]))\n",
        "    return X\n"
      ],
      "metadata": {
        "id": "H6HSL5skYynZ"
      },
      "id": "H6HSL5skYynZ",
      "execution_count": null,
      "outputs": []
    },
    {
      "cell_type": "markdown",
      "source": [
        "### step 4: remove punctuations"
      ],
      "metadata": {
        "id": "HABkLM-HT2kP"
      },
      "id": "HABkLM-HT2kP"
    },
    {
      "cell_type": "code",
      "execution_count": null,
      "id": "05436d1c-ab2c-4edf-bfe9-523b919c7c23",
      "metadata": {
        "id": "05436d1c-ab2c-4edf-bfe9-523b919c7c23"
      },
      "outputs": [],
      "source": [
        "class RemovePunctuations(BaseEstimator, TransformerMixin):\n",
        "  def __init__(self):\n",
        "    pass\n",
        "\n",
        "  def fit(self, X, y=None):\n",
        "    return self\n",
        "\n",
        "  def transform(self, X, y=None):\n",
        "    import string\n",
        "    english_punctuations = string.punctuation\n",
        "    punctuations_list = english_punctuations\n",
        "    translator = str.maketrans('', '', punctuations_list)\n",
        "    X['text']=X['text'].str.translate(translator)\n",
        "    return X"
      ]
    },
    {
      "cell_type": "markdown",
      "source": [
        "### step 5: remove repeating characters"
      ],
      "metadata": {
        "id": "iTG_wwHvfJmw"
      },
      "id": "iTG_wwHvfJmw"
    },
    {
      "cell_type": "code",
      "source": [
        "class CleaningRepChars(BaseEstimator, TransformerMixin):\n",
        "  def __init__(self):\n",
        "    pass\n",
        "  def fit(self, X, y=None):\n",
        "    return self\n",
        "  def transform(self, X, y=None):\n",
        "    X['text'] = X['text'].apply(lambda a: re.sub(\"(.)\\\\1{2,}\", \"\\\\1\", a))\n",
        "    return X"
      ],
      "metadata": {
        "id": "QzkOHpW0fOzs"
      },
      "id": "QzkOHpW0fOzs",
      "execution_count": null,
      "outputs": []
    },
    {
      "cell_type": "markdown",
      "source": [
        "### step 6: clean and remove URLS\n"
      ],
      "metadata": {
        "id": "bsfA-2r4KYRH"
      },
      "id": "bsfA-2r4KYRH"
    },
    {
      "cell_type": "code",
      "source": [
        "class RemoveURLs(BaseEstimator, TransformerMixin):\n",
        "  def __init__(self):\n",
        "    pass\n",
        "  def fit(self, X, y=None):\n",
        "    return self\n",
        "  def transform(self, X, y=None):\n",
        "    X['text'] = X['text'].apply(lambda a: re.sub('((www.[^s]+)|(https?://[^s]+))',' ', a))\n",
        "    return X"
      ],
      "metadata": {
        "id": "IYf-lMHSKgbN"
      },
      "id": "IYf-lMHSKgbN",
      "execution_count": null,
      "outputs": []
    },
    {
      "cell_type": "markdown",
      "source": [
        "### step 7: remove numbers"
      ],
      "metadata": {
        "id": "7A1z6XBZVZ5e"
      },
      "id": "7A1z6XBZVZ5e"
    },
    {
      "cell_type": "code",
      "source": [
        "class RemoveNumbers(BaseEstimator, TransformerMixin):\n",
        "  def __init__(self):\n",
        "    pass\n",
        "  def fit(self, X, y=None):\n",
        "    return self\n",
        "  def transform(self, X, y=None):\n",
        "    X['text'] = X['text'].apply(lambda a: re.sub('[0-9]+', '', a))\n",
        "    return X\n"
      ],
      "metadata": {
        "id": "kUpXZwrLViqQ"
      },
      "id": "kUpXZwrLViqQ",
      "execution_count": null,
      "outputs": []
    },
    {
      "cell_type": "markdown",
      "source": [
        "### step 8: tokenization"
      ],
      "metadata": {
        "id": "QrIB7Dh5XJHZ"
      },
      "id": "QrIB7Dh5XJHZ"
    },
    {
      "cell_type": "code",
      "source": [
        "class Tokenize(BaseEstimator, TransformerMixin):\n",
        "  def __init__(self):\n",
        "    pass\n",
        "  def fit(self, X, y=None):\n",
        "    return self\n",
        "  def transform(self, X, y=None):\n",
        "    from nltk.tokenize import TreebankWordTokenizer\n",
        "    tokenizer = TreebankWordTokenizer()\n",
        "    X['text'] = X['text'].apply(tokenizer.tokenize)\n",
        "    X['text'] = X['text'].astype(str)\n",
        "    return X"
      ],
      "metadata": {
        "id": "kxFjrMSVe_1B"
      },
      "id": "kxFjrMSVe_1B",
      "execution_count": null,
      "outputs": []
    },
    {
      "cell_type": "markdown",
      "source": [
        "### step 8: Lemmatizer\n"
      ],
      "metadata": {
        "id": "frzmF0UyiJXU"
      },
      "id": "frzmF0UyiJXU"
    },
    {
      "cell_type": "code",
      "source": [
        "class Lemmatizer(BaseEstimator, TransformerMixin):\n",
        "  def __init__(self):\n",
        "    pass\n",
        "  def fit(self, X, y=None):\n",
        "    return self\n",
        "  def transform(self, X, y=None):\n",
        "    import spacy\n",
        "    nlp = spacy.load(\"nl_core_news_sm\")\n",
        "    X['text'] = X['text'].astype(str)\n",
        "    X['text'] = X['text'].apply(lambda row: \" \".join([w.lemma_ for w in nlp(row)]))\n",
        "    return X"
      ],
      "metadata": {
        "id": "8yQo8PStiaCT"
      },
      "id": "8yQo8PStiaCT",
      "execution_count": null,
      "outputs": []
    },
    {
      "cell_type": "code",
      "source": [
        "from sklearn.pipeline import make_pipeline\n",
        "pipeline = make_pipeline(LanguageFilter(), CoLo(), Cleaner(), RemovePunctuations(), CleaningRepChars(), RemoveURLs(), RemoveNumbers(),\n",
        "                         Tokenize(), Lemmatizer())\n",
        "pipeline"
      ],
      "metadata": {
        "id": "-kLrWgynfYqZ"
      },
      "id": "-kLrWgynfYqZ",
      "execution_count": null,
      "outputs": []
    },
    {
      "cell_type": "code",
      "execution_count": null,
      "id": "8925acab-9e5d-4416-bb72-c1ba553bf1dc",
      "metadata": {
        "id": "8925acab-9e5d-4416-bb72-c1ba553bf1dc"
      },
      "outputs": [],
      "source": [
        "data_preprocessed = pipeline.fit_transform(data)"
      ]
    },
    {
      "cell_type": "code",
      "source": [
        "data_preprocessed"
      ],
      "metadata": {
        "id": "-nB7LJ06Etqx"
      },
      "id": "-nB7LJ06Etqx",
      "execution_count": null,
      "outputs": []
    },
    {
      "cell_type": "code",
      "execution_count": null,
      "id": "4d410f0b-6eb8-4926-b5a2-2f766dd17a29",
      "metadata": {
        "id": "4d410f0b-6eb8-4926-b5a2-2f766dd17a29"
      },
      "outputs": [],
      "source": [
        "# old code snippet for 'stemming'. may come handy sometime later in the future.\n",
        "# from nltk.stem.snowball import DutchStemmer\n",
        "\n",
        "# st = DutchStemmer()\n",
        "# def stemming_on_text(dataset):\n",
        "#    text = [st.stem(word) for word in dataset]\n",
        "#    return dataset\n",
        "#data['text']= data['text'].apply(lambda x: stemming_on_text(x))\n",
        "#data['text'].head()"
      ]
    },
    {
      "cell_type": "markdown",
      "source": [
        "## WordClouds"
      ],
      "metadata": {
        "id": "VCS1rxXa2jDs"
      },
      "id": "VCS1rxXa2jDs"
    },
    {
      "cell_type": "code",
      "source": [
        "# Categorize data as positive and negative\n",
        "data_pos = data[['full_text', 'sentiment_pattern']]\n",
        "data_pos = data_pos[data_pos['sentiment_pattern'] == 1]\n",
        "\n",
        "data_neg = data[['full_text', 'sentiment_pattern']]\n",
        "data_neg = data_neg[data_neg['sentiment_pattern'] == 0]\n"
      ],
      "metadata": {
        "id": "uVwPdP962f3R"
      },
      "id": "uVwPdP962f3R",
      "execution_count": null,
      "outputs": []
    },
    {
      "cell_type": "markdown",
      "source": [
        "### Word cloud for negative words"
      ],
      "metadata": {
        "id": "da9ZL4EU24da"
      },
      "id": "da9ZL4EU24da"
    },
    {
      "cell_type": "code",
      "execution_count": null,
      "id": "870a6aef-6829-4b15-baaf-a19a4a24e41b",
      "metadata": {
        "id": "870a6aef-6829-4b15-baaf-a19a4a24e41b"
      },
      "outputs": [],
      "source": [
        "# Neg word cloud (attention: this uses the raw text data!)\n",
        "# data_neg = data_neg[:9230]\n",
        "plt.figure(figsize = (20,20))\n",
        "wc_neg = WordCloud(max_words = 1000 , width = 1600 , height = 800,\n",
        "               collocations=False).generate(\" \".join(map(str, data_neg['full_text'])))\n",
        "plt.imshow(wc_neg)\n"
      ]
    },
    {
      "cell_type": "markdown",
      "source": [
        "### Word cloud for positive words"
      ],
      "metadata": {
        "id": "c3L6XhHP2_NK"
      },
      "id": "c3L6XhHP2_NK"
    },
    {
      "cell_type": "code",
      "execution_count": null,
      "id": "52cc1b79-020f-4c06-91e4-850733a054ff",
      "metadata": {
        "id": "52cc1b79-020f-4c06-91e4-850733a054ff"
      },
      "outputs": [],
      "source": [
        "# pos wordcloud (attention: this uses the raw text data!)\n",
        "# data_pos = data_pos[:17789]\n",
        "plt.figure(figsize = (20,20))\n",
        "wc_pos = WordCloud(max_words = 1000 , width = 1600 , height = 800,\n",
        "               collocations=False).generate(\" \".join(map(str, data_pos['full_text'])))\n",
        "plt.imshow(wc_pos)\n"
      ]
    },
    {
      "cell_type": "markdown",
      "source": [
        "## Modelling"
      ],
      "metadata": {
        "id": "_r6otIDA3Fd9"
      },
      "id": "_r6otIDA3Fd9"
    },
    {
      "cell_type": "markdown",
      "source": [
        "## Prepare the data"
      ],
      "metadata": {
        "id": "VewzL3r23MMJ"
      },
      "id": "VewzL3r23MMJ"
    },
    {
      "cell_type": "code",
      "source": [
        "# create the 'X' with the features, and create the'y' with the annotations/sentiment\n",
        "X = data_preprocessed['text']\n",
        "y = data_preprocessed['label']"
      ],
      "metadata": {
        "id": "LTeMb6J0JQWH"
      },
      "id": "LTeMb6J0JQWH",
      "execution_count": null,
      "outputs": []
    },
    {
      "cell_type": "code",
      "execution_count": null,
      "id": "7374c635-b3b0-4dca-835b-800c57d2a06d",
      "metadata": {
        "id": "7374c635-b3b0-4dca-835b-800c57d2a06d"
      },
      "outputs": [],
      "source": [
        "# Split the data into train and test subsets\n",
        "X_train, X_test, y_train, y_test = train_test_split(X, y, test_size = 0.05, random_state = 42)"
      ]
    },
    {
      "cell_type": "code",
      "execution_count": null,
      "id": "c4c43fd2-3997-437c-b34e-2e34e52d337f",
      "metadata": {
        "id": "c4c43fd2-3997-437c-b34e-2e34e52d337f"
      },
      "outputs": [],
      "source": [
        "# Turn data into strings (ensures, otherwise may throw an error)\n",
        "X_train = X_train.astype(str)\n",
        "X_test = X_test.astype(str)"
      ]
    },
    {
      "cell_type": "markdown",
      "source": [
        "### Fit the TF-IDF Vectorizer"
      ],
      "metadata": {
        "id": "57hNHs9N3Zn7"
      },
      "id": "57hNHs9N3Zn7"
    },
    {
      "cell_type": "code",
      "execution_count": null,
      "id": "3a2fa5d9-198d-4d43-bab3-66082c9d7d80",
      "metadata": {
        "id": "3a2fa5d9-198d-4d43-bab3-66082c9d7d80"
      },
      "outputs": [],
      "source": [
        "# Fit the tf-idf vectorizer on the training data (!)\n",
        "vectoriser = TfidfVectorizer(ngram_range=(1, 2), max_features = 500000)\n",
        "vectoriser.fit(X_train)"
      ]
    },
    {
      "cell_type": "code",
      "execution_count": null,
      "id": "bc979f66-308a-433a-b46e-16e7ce62421b",
      "metadata": {
        "id": "bc979f66-308a-433a-b46e-16e7ce62421b"
      },
      "outputs": [],
      "source": [
        "# Check how many feature words are extracted\n",
        "print('No. of feature_words: ', len(vectoriser.get_feature_names_out()))"
      ]
    },
    {
      "cell_type": "markdown",
      "source": [
        "### Transform the data according to TF-IDF vectorizer"
      ],
      "metadata": {
        "id": "F4scR5dT3spp"
      },
      "id": "F4scR5dT3spp"
    },
    {
      "cell_type": "code",
      "execution_count": null,
      "id": "f31285fc-7059-4098-b9fb-3dd92593281f",
      "metadata": {
        "id": "f31285fc-7059-4098-b9fb-3dd92593281f"
      },
      "outputs": [],
      "source": [
        "# Transform the data (both train and test data!) using the tf-idf vectorizer\n",
        "X_train = vectoriser.transform(X_train)\n",
        "X_test = vectoriser.transform(X_test)"
      ]
    },
    {
      "cell_type": "markdown",
      "source": [
        "### Model Evaluation"
      ],
      "metadata": {
        "id": "j5GkYqlT39WW"
      },
      "id": "j5GkYqlT39WW"
    },
    {
      "cell_type": "code",
      "execution_count": null,
      "id": "373be347-106d-4d99-ab90-2f329ff02e24",
      "metadata": {
        "id": "373be347-106d-4d99-ab90-2f329ff02e24"
      },
      "outputs": [],
      "source": [
        "# Define a function for model evaluation\n",
        "# creds to https://www.analyticsvidhya.com/blog/2021/06/twitter-sentiment-analysis-a-nlp-use-case-for-beginners/\n",
        "def model_Evaluate(model):\n",
        "    # Predict values for Test dataset\n",
        "    y_pred = model.predict(X_test)\n",
        "    # Print the evaluation metrics for the dataset.\n",
        "    print(classification_report(y_test, y_pred))\n",
        "    # Compute and plot the Confusion matrix\n",
        "    cf_matrix = confusion_matrix(y_test, y_pred)\n",
        "    categories = ['Negative','Positive']\n",
        "    group_names = ['True Neg','False Pos', 'False Neg','True Pos']\n",
        "    group_percentages = ['{0:.2%}'.format(value) for value in cf_matrix.flatten() / np.sum(cf_matrix)]\n",
        "    labels = [f'{v1}n{v2}' for v1, v2 in zip(group_names,group_percentages)]\n",
        "    labels = np.asarray(labels).reshape(2,2)\n",
        "    sns.heatmap(cf_matrix, annot = labels, cmap = 'Blues',fmt = '',\n",
        "    xticklabels = categories, yticklabels = categories)\n",
        "    plt.xlabel(\"Predicted values\", fontdict = {'size':14}, labelpad = 10)\n",
        "    plt.ylabel(\"Actual values\" , fontdict = {'size':14}, labelpad = 10)\n",
        "    plt.title (\"Confusion Matrix\", fontdict = {'size':18}, pad = 20)"
      ]
    },
    {
      "cell_type": "markdown",
      "source": [
        "### Model 1: Train and evaluate a Bernoulli Naive Bayes model"
      ],
      "metadata": {
        "id": "CPa73KOf4Sf5"
      },
      "id": "CPa73KOf4Sf5"
    },
    {
      "cell_type": "code",
      "execution_count": null,
      "id": "bae83e3b-34b0-475d-8956-173fe682939b",
      "metadata": {
        "id": "bae83e3b-34b0-475d-8956-173fe682939b"
      },
      "outputs": [],
      "source": [
        "BNBmodel = BernoulliNB()\n",
        "BNBmodel.fit(X_train, y_train)\n",
        "model_Evaluate(BNBmodel)\n",
        "y_pred1 = BNBmodel.predict(X_test)"
      ]
    },
    {
      "cell_type": "code",
      "execution_count": null,
      "id": "b867c330-9b43-4d35-8ad9-19baf55cfc5e",
      "metadata": {
        "id": "b867c330-9b43-4d35-8ad9-19baf55cfc5e"
      },
      "outputs": [],
      "source": [
        "# Define a function for receiving a ROC curve and RUN it.\n",
        "from sklearn.metrics import roc_curve, auc\n",
        "fpr, tpr, thresholds = roc_curve(y_test, y_pred1)\n",
        "roc_auc = auc(fpr, tpr)\n",
        "plt.figure()\n",
        "plt.plot(fpr, tpr, color='darkorange', lw=1, label='ROC curve (area = %0.2f)' % roc_auc)\n",
        "plt.xlim([0.0, 1.0])\n",
        "plt.ylim([0.0, 1.05])\n",
        "plt.xlabel('False Positive Rate')\n",
        "plt.ylabel('True Positive Rate')\n",
        "plt.title('ROC CURVE')\n",
        "plt.legend(loc=\"lower right\")\n",
        "plt.show()"
      ]
    },
    {
      "cell_type": "markdown",
      "source": [
        "### Model 2: Train and evaluate a Linear Support Vector Classification model"
      ],
      "metadata": {
        "id": "u7TT1EFW4tPL"
      },
      "id": "u7TT1EFW4tPL"
    },
    {
      "cell_type": "code",
      "execution_count": null,
      "id": "20b910e1-7238-4c76-b87c-70a5e887078a",
      "metadata": {
        "id": "20b910e1-7238-4c76-b87c-70a5e887078a"
      },
      "outputs": [],
      "source": [
        "SVCmodel = LinearSVC()\n",
        "SVCmodel.fit(X_train, y_train)\n",
        "model_Evaluate(SVCmodel)\n",
        "y_pred2 = SVCmodel.predict(X_test)"
      ]
    },
    {
      "cell_type": "code",
      "execution_count": null,
      "id": "df9973a6-f8cc-4556-82e7-f6f562aa9152",
      "metadata": {
        "id": "df9973a6-f8cc-4556-82e7-f6f562aa9152"
      },
      "outputs": [],
      "source": [
        "# Define a function for receiving a ROC curve and RUN it.\n",
        "from sklearn.metrics import roc_curve, auc\n",
        "fpr, tpr, thresholds = roc_curve(y_test, y_pred2)\n",
        "roc_auc = auc(fpr, tpr)\n",
        "plt.figure()\n",
        "plt.plot(fpr, tpr, color='darkorange', lw=1, label='ROC curve (area = %0.2f)' % roc_auc)\n",
        "plt.xlim([0.0, 1.0])\n",
        "plt.ylim([0.0, 1.05])\n",
        "plt.xlabel('False Positive Rate')\n",
        "plt.ylabel('True Positive Rate')\n",
        "plt.title('ROC CURVE')\n",
        "plt.legend(loc=\"lower right\")\n",
        "plt.show()"
      ]
    },
    {
      "cell_type": "markdown",
      "source": [
        "### Model 3: Train and evaluate a Logistic regression model"
      ],
      "metadata": {
        "id": "PlJYTCnI5BN2"
      },
      "id": "PlJYTCnI5BN2"
    },
    {
      "cell_type": "code",
      "execution_count": null,
      "id": "d555a998-ea98-412e-a7e9-b865a33357d1",
      "metadata": {
        "id": "d555a998-ea98-412e-a7e9-b865a33357d1"
      },
      "outputs": [],
      "source": [
        "LRmodel = LogisticRegression(C = 2, max_iter = 1000, n_jobs=-1)\n",
        "LRmodel.fit(X_train, y_train)\n",
        "model_Evaluate(LRmodel)\n",
        "y_pred3 = LRmodel.predict(X_test)"
      ]
    },
    {
      "cell_type": "code",
      "execution_count": null,
      "id": "f61f50a2-9c13-4748-9e38-978d5a2d5f64",
      "metadata": {
        "id": "f61f50a2-9c13-4748-9e38-978d5a2d5f64"
      },
      "outputs": [],
      "source": [
        "# Define a function for receiving a ROC curve and RUN it.\n",
        "from sklearn.metrics import roc_curve, auc\n",
        "fpr, tpr, thresholds = roc_curve(y_test, y_pred3)\n",
        "roc_auc = auc(fpr, tpr)\n",
        "plt.figure()\n",
        "plt.plot(fpr, tpr, color='darkorange', lw=1, label='ROC curve (area = %0.2f)' % roc_auc)\n",
        "plt.xlim([0.0, 1.0])\n",
        "plt.ylim([0.0, 1.05])\n",
        "plt.xlabel('False Positive Rate')\n",
        "plt.ylabel('True Positive Rate')\n",
        "plt.title('ROC CURVE')\n",
        "plt.legend(loc=\"lower right\")\n",
        "plt.show()"
      ]
    },
    {
      "cell_type": "markdown",
      "source": [
        "### Overall Interpretation:"
      ],
      "metadata": {
        "id": "g2cChyKc5TjY"
      },
      "id": "g2cChyKc5TjY"
    },
    {
      "cell_type": "code",
      "execution_count": null,
      "id": "c89f8b9b-3d1c-410e-b64a-14800a8e8ae7",
      "metadata": {
        "id": "c89f8b9b-3d1c-410e-b64a-14800a8e8ae7"
      },
      "outputs": [],
      "source": [
        "# The linear support vector classifier (svc) worked the best"
      ]
    }
  ],
  "metadata": {
    "kernelspec": {
      "display_name": "Python 3 (ipykernel)",
      "language": "python",
      "name": "python3"
    },
    "language_info": {
      "codemirror_mode": {
        "name": "ipython",
        "version": 3
      },
      "file_extension": ".py",
      "mimetype": "text/x-python",
      "name": "python",
      "nbconvert_exporter": "python",
      "pygments_lexer": "ipython3",
      "version": "3.10.9"
    },
    "colab": {
      "provenance": []
    }
  },
  "nbformat": 4,
  "nbformat_minor": 5
}